{
  "cells": [
    {
      "cell_type": "markdown",
      "metadata": {
        "id": "ldb41eIludak"
      },
      "source": [
        "# 0. Install dependencies"
      ]
    },
    {
      "cell_type": "code",
      "execution_count": null,
      "metadata": {
        "id": "31yH5KByudau",
        "colab": {
          "base_uri": "https://localhost:8080/"
        },
        "outputId": "f7c89143-96dd-4e21-d57c-89ab6fc6e3c7"
      },
      "outputs": [
        {
          "output_type": "stream",
          "name": "stdout",
          "text": [
            "Looking in indexes: https://pypi.org/simple, https://us-python.pkg.dev/colab-wheels/public/simple/\n",
            "Looking in links: https://download.pytorch.org/whl/lts/1.8/torch_lts.html\n",
            "\u001b[31mERROR: Could not find a version that satisfies the requirement torch==1.11.0+cu111 (from versions: 1.0.0, 1.0.1, 1.0.1.post2, 1.1.0, 1.2.0, 1.3.0, 1.3.1, 1.4.0, 1.5.0, 1.5.1, 1.6.0, 1.7.0, 1.7.1, 1.8.0, 1.8.1, 1.8.1+cpu, 1.8.1+cu102, 1.8.1+cu111, 1.8.2+cpu, 1.8.2+cu101, 1.8.2+cu102, 1.8.2+cu111, 1.8.2+rocm3.10, 1.8.2+rocm4.0.1, 1.9.0, 1.9.1, 1.10.0, 1.10.1, 1.10.2, 1.11.0)\u001b[0m\n",
            "\u001b[31mERROR: No matching distribution found for torch==1.11.0+cu111\u001b[0m\n"
          ]
        }
      ],
      "source": [
        "# Install PyTorch\n",
        "!pip install torch==1.11.0+cu111 torchvision==0.9.2+cu111 torchaudio===0.8.2 -f https://download.pytorch.org/whl/lts/1.8/torch_lts.html"
      ]
    },
    {
      "cell_type": "code",
      "execution_count": null,
      "metadata": {
        "id": "9pGdvP1Cudaw",
        "colab": {
          "base_uri": "https://localhost:8080/"
        },
        "outputId": "39f183a2-dff7-4bdd-bb4d-05731944d16d"
      },
      "outputs": [
        {
          "output_type": "stream",
          "name": "stdout",
          "text": [
            "Looking in indexes: https://pypi.org/simple, https://us-python.pkg.dev/colab-wheels/public/simple/\n",
            "Collecting transformers\n",
            "  Downloading transformers-4.20.0-py3-none-any.whl (4.4 MB)\n",
            "\u001b[K     |████████████████████████████████| 4.4 MB 1.1 MB/s \n",
            "\u001b[?25hRequirement already satisfied: tqdm>=4.27 in /usr/local/lib/python3.7/dist-packages (from transformers) (4.64.0)\n",
            "Collecting huggingface-hub<1.0,>=0.1.0\n",
            "  Downloading huggingface_hub-0.7.0-py3-none-any.whl (86 kB)\n",
            "\u001b[K     |████████████████████████████████| 86 kB 1.9 MB/s \n",
            "\u001b[?25hRequirement already satisfied: filelock in /usr/local/lib/python3.7/dist-packages (from transformers) (3.7.1)\n",
            "Collecting pyyaml>=5.1\n",
            "  Downloading PyYAML-6.0-cp37-cp37m-manylinux_2_5_x86_64.manylinux1_x86_64.manylinux_2_12_x86_64.manylinux2010_x86_64.whl (596 kB)\n",
            "\u001b[K     |████████████████████████████████| 596 kB 24.5 MB/s \n",
            "\u001b[?25hRequirement already satisfied: importlib-metadata in /usr/local/lib/python3.7/dist-packages (from transformers) (4.11.4)\n",
            "Requirement already satisfied: numpy>=1.17 in /usr/local/lib/python3.7/dist-packages (from transformers) (1.21.6)\n",
            "Requirement already satisfied: packaging>=20.0 in /usr/local/lib/python3.7/dist-packages (from transformers) (21.3)\n",
            "Requirement already satisfied: requests in /usr/local/lib/python3.7/dist-packages (from transformers) (2.23.0)\n",
            "Collecting tokenizers!=0.11.3,<0.13,>=0.11.1\n",
            "  Downloading tokenizers-0.12.1-cp37-cp37m-manylinux_2_12_x86_64.manylinux2010_x86_64.whl (6.6 MB)\n",
            "\u001b[K     |████████████████████████████████| 6.6 MB 47.6 MB/s \n",
            "\u001b[?25hRequirement already satisfied: regex!=2019.12.17 in /usr/local/lib/python3.7/dist-packages (from transformers) (2022.6.2)\n",
            "Requirement already satisfied: typing-extensions>=3.7.4.3 in /usr/local/lib/python3.7/dist-packages (from huggingface-hub<1.0,>=0.1.0->transformers) (4.1.1)\n",
            "Requirement already satisfied: pyparsing!=3.0.5,>=2.0.2 in /usr/local/lib/python3.7/dist-packages (from packaging>=20.0->transformers) (3.0.9)\n",
            "Requirement already satisfied: zipp>=0.5 in /usr/local/lib/python3.7/dist-packages (from importlib-metadata->transformers) (3.8.0)\n",
            "Requirement already satisfied: certifi>=2017.4.17 in /usr/local/lib/python3.7/dist-packages (from requests->transformers) (2022.6.15)\n",
            "Requirement already satisfied: idna<3,>=2.5 in /usr/local/lib/python3.7/dist-packages (from requests->transformers) (2.10)\n",
            "Requirement already satisfied: urllib3!=1.25.0,!=1.25.1,<1.26,>=1.21.1 in /usr/local/lib/python3.7/dist-packages (from requests->transformers) (1.24.3)\n",
            "Requirement already satisfied: chardet<4,>=3.0.2 in /usr/local/lib/python3.7/dist-packages (from requests->transformers) (3.0.4)\n",
            "Installing collected packages: pyyaml, tokenizers, huggingface-hub, transformers\n",
            "  Attempting uninstall: pyyaml\n",
            "    Found existing installation: PyYAML 3.13\n",
            "    Uninstalling PyYAML-3.13:\n",
            "      Successfully uninstalled PyYAML-3.13\n",
            "Successfully installed huggingface-hub-0.7.0 pyyaml-6.0 tokenizers-0.12.1 transformers-4.20.0\n"
          ]
        }
      ],
      "source": [
        "# Install transformers\n",
        "!pip install transformers"
      ]
    },
    {
      "cell_type": "markdown",
      "metadata": {
        "id": "JcEDsYmvuday"
      },
      "source": [
        "# 1. Import and Load Model"
      ]
    },
    {
      "cell_type": "code",
      "source": [
        "from transformers import AutoTokenizer, AutoModelForSeq2SeqLM\n",
        "\n",
        "tokenizer = AutoTokenizer.from_pretrained(\"google/pegasus-xsum\")\n",
        "\n",
        "model = AutoModelForSeq2SeqLM.from_pretrained(\"google/pegasus-xsum\")"
      ],
      "metadata": {
        "colab": {
          "base_uri": "https://localhost:8080/",
          "height": 49,
          "referenced_widgets": [
            "3052243a784c420b9b687223e15669bf",
            "51ef605317a145b4b3be283f8de51c5b",
            "4794c730525e47b4a265d2f689702350",
            "0931236f129347d4aebb84c8bad0a831",
            "e4edebb8081e4f30a726e5e6e796f255",
            "b56320315091456dbf8da11493c918f3",
            "637295e2211c400a81ab27cde2be742d",
            "f8220540259d4de495b2267becbd9301",
            "a3e9be126b0845ed8967d4fd2c3be72b",
            "d91d260b7c65441ea5d72c14dfbf155a",
            "29097b642f2a44b1bf3ac75d221c3992"
          ]
        },
        "id": "r9vPAdz2iTeI",
        "outputId": "887ae03b-878c-4759-e88e-7b972ecd6579"
      },
      "execution_count": null,
      "outputs": [
        {
          "output_type": "display_data",
          "data": {
            "text/plain": [
              "Downloading:   0%|          | 0.00/2.12G [00:00<?, ?B/s]"
            ],
            "application/vnd.jupyter.widget-view+json": {
              "version_major": 2,
              "version_minor": 0,
              "model_id": "3052243a784c420b9b687223e15669bf"
            }
          },
          "metadata": {}
        }
      ]
    },
    {
      "cell_type": "code",
      "execution_count": null,
      "metadata": {
        "id": "xVd1Nf1Hudaz"
      },
      "outputs": [],
      "source": [
        "# Importing dependencies from transformers\n",
        "from transformers import PegasusForConditionalGeneration, PegasusTokenizer"
      ]
    },
    {
      "cell_type": "code",
      "source": [
        "%pip install sentencepiece"
      ],
      "metadata": {
        "colab": {
          "base_uri": "https://localhost:8080/"
        },
        "id": "feTJshFUfhwZ",
        "outputId": "5bf30399-f149-45bb-ee1a-4f425c3e82cf"
      },
      "execution_count": null,
      "outputs": [
        {
          "output_type": "stream",
          "name": "stdout",
          "text": [
            "Looking in indexes: https://pypi.org/simple, https://us-python.pkg.dev/colab-wheels/public/simple/\n",
            "Requirement already satisfied: sentencepiece in /usr/local/lib/python3.7/dist-packages (0.1.96)\n"
          ]
        }
      ]
    },
    {
      "cell_type": "code",
      "execution_count": null,
      "metadata": {
        "id": "SZPKUR5quda1"
      },
      "outputs": [],
      "source": [
        "# Load model \n",
        "model = PegasusForConditionalGeneration.from_pretrained(\"google/pegasus-xsum\")"
      ]
    },
    {
      "cell_type": "markdown",
      "metadata": {
        "id": "b23InvWYuda2"
      },
      "source": [
        "# 2. Perform Abstractive Summarization"
      ]
    },
    {
      "cell_type": "code",
      "execution_count": null,
      "metadata": {
        "id": "_aUZQKpZuda3"
      },
      "outputs": [],
      "source": [
        "text = \"\"\"The 34-year-old has been absent from the club since a training-ground row after the 5-1 Scottish Premiership loss at Celtic on 10 September.\n",
        "Alongside agent Eddy Jennings, he attended a meeting with club officials last week. Barton, who joined from Burnley in May, has repeatedly\n",
        "said he wants to return and fight for his Rangers place. ”Joey Barton has been told he will return to full-time training following the conclusion\n",
        "of a disciplinary procedure,” read a statement on Rangers’ website. ”The Auchenhowie [training base] management team will inform the player\n",
        "of appropriate training arrangements to which he must adhere for as long as he remains a Rangers player. ”Neither the club, nor the player, will\n",
        "comment further.” Barton is also facing Scottish FA charges for breaching betting rules. He was charged with placing 44 bets on games between 1\n",
        "July and 15 September. The former Manchester City, Newcastle United and QPR player, who has one England cap, left Burnley under freedom of\n",
        "contract at the end of last season, signing a two-year contract at Ibrox. He has made eight appearances for Mark Warburton’s side, who are second in\n",
        "the Premiership. Barton was not available for comment but said earlier on Wednesday on Twitter that it was ”a lovely day for a Iceman Hof session\n",
        "and a run!” in reference to Dutch ice bath training guru Wim Hof. BBC Scotland’s Richard Wilson The fact that Joey Barton is returning to full-time\n",
        "training does not necessarily mean the resumption of his Rangers career. Under Fifa rules, a player under contract at a club must be provided with\n",
        "training facilities. The fact that the player was suspended reflects the view of the management team about the serious nature of a training-ground row\n",
        "in September. Any return to the first-team squad would need to be \"\"\""
      ]
    },
    {
      "cell_type": "code",
      "execution_count": null,
      "metadata": {
        "id": "l9fSt7Ijuda4"
      },
      "outputs": [],
      "source": [
        "# Create tokens - number representation of our text\n",
        "tokens = tokenizer(text, truncation=True, padding=\"longest\", return_tensors=\"pt\")"
      ]
    },
    {
      "cell_type": "code",
      "execution_count": null,
      "metadata": {
        "id": "HaiE7ElFuda6",
        "outputId": "95110167-a90b-4c0a-85e1-c1deca9074fa",
        "colab": {
          "base_uri": "https://localhost:8080/"
        }
      },
      "outputs": [
        {
          "output_type": "execute_result",
          "data": {
            "text/plain": [
              "{'input_ids': tensor([[  139, 41370,  1019,   121,  1623,   148,   174, 12001,   135,   109,\n",
              "          1666,   381,   114,   569,   121, 10863,  3843,   244,   109, 40175,\n",
              "          6603, 44108,  1135,   134, 15239,   124,   377,  1338,   107, 35084,\n",
              "          2575, 37046, 31323,   108,   178,  3243,   114,   988,   122,  1666,\n",
              "          2662,   289,   396,   107, 24466,   108,   170,  2182,   135, 43086,\n",
              "           115,   913,   108,   148,  8295,   243,   178,  1728,   112,   935,\n",
              "           111,  2094,   118,   169, 12825,   295,   107,   110,   227, 80246,\n",
              "         24466,   148,   174,   898,   178,   138,   935,   112,   357,   121,\n",
              "          1139,   569,   645,   109,  5295,   113,   114, 22486,  2569,   483,\n",
              "           516,   114,  1736,   124, 12825,   123,   387,   107,   110,   227,\n",
              "           159,   202, 47471,  4242,  1879,  1126, 18006,  1217,  1100,   603,\n",
              "           320,   138,  4478,   109,  1446,   113,  1530,   569,  4903,   112,\n",
              "           162,   178,   355,  9981,   118,   130,   300,   130,   178,  2085,\n",
              "           114, 12825,  1446,   107,   110,   227, 30542,   109,  1666,   108,\n",
              "          3001,   109,  1446,   108,   138,  1929,   701,  1181, 24466,   117,\n",
              "           163,  2931,  6603, 11828,  2699,   118, 53190,  6056,  1696,   107,\n",
              "           285,   140,  3131,   122,  5322,  6377, 11687,   124,   727,   317,\n",
              "           305,  1307,   111,   738,  1338,   107,   139,  1319,  5420,   672,\n",
              "           108, 11866,   706,   111, 76969,  1446,   108,   170,   148,   156,\n",
              "          2159,  3889,   108,   518, 43086,   365,  3002,   113,  1899,   134,\n",
              "           109,   370,   113,   289,   578,   108,  5130,   114,   228,   121,\n",
              "          1019,  1899,   134,   125, 13624,   757,   107,   285,   148,   266,\n",
              "          1965,  9273,   118,  2538, 95297,   123,   116,   477,   108,   170,\n",
              "           127,   453,   115,   109, 44108,   107, 24466,   140,   146,   293,\n",
              "           118,  1929,   155,   243,  1678,   124,  1900,   124,  2277,   120,\n",
              "           126,   140,   110,   227,   304,  1995,   242,   118,   114,  6527,\n",
              "          1121, 44907,  1617,   111,   114,   550,  5528,   115,  2334,   112,\n",
              "          6015,  2003,  2835,   569, 21459, 46954, 44907,   107,  6442,  4631,\n",
              "           123,   116,  3897,  5867,   139,   617,   120, 21047, 24466,   117,\n",
              "          4319,   112,   357,   121,  1139,   569,   358,   146,  4213,  1021,\n",
              "           109, 64214,   113,   169, 12825,  1010,   107,  3731, 73983,  1696,\n",
              "           108,   114,  1446,   365,  1899,   134,   114,  1666,   355,   129,\n",
              "           735,   122,   569,  1631,   107,   139,   617,   120,   109,  1446,\n",
              "           140,  7903,  6389,   109,   700,   113,   109,   603,   320,   160,\n",
              "           109,  1651,  1247,   113,   114,   569,   121, 10863,  3843,   115,\n",
              "          1338,   107,  2533,   935,   112,   109,   211,   121, 13281,  7784,\n",
              "           192,   217,   112,   129,   110,     1]]), 'attention_mask': tensor([[1, 1, 1, 1, 1, 1, 1, 1, 1, 1, 1, 1, 1, 1, 1, 1, 1, 1, 1, 1, 1, 1, 1, 1,\n",
              "         1, 1, 1, 1, 1, 1, 1, 1, 1, 1, 1, 1, 1, 1, 1, 1, 1, 1, 1, 1, 1, 1, 1, 1,\n",
              "         1, 1, 1, 1, 1, 1, 1, 1, 1, 1, 1, 1, 1, 1, 1, 1, 1, 1, 1, 1, 1, 1, 1, 1,\n",
              "         1, 1, 1, 1, 1, 1, 1, 1, 1, 1, 1, 1, 1, 1, 1, 1, 1, 1, 1, 1, 1, 1, 1, 1,\n",
              "         1, 1, 1, 1, 1, 1, 1, 1, 1, 1, 1, 1, 1, 1, 1, 1, 1, 1, 1, 1, 1, 1, 1, 1,\n",
              "         1, 1, 1, 1, 1, 1, 1, 1, 1, 1, 1, 1, 1, 1, 1, 1, 1, 1, 1, 1, 1, 1, 1, 1,\n",
              "         1, 1, 1, 1, 1, 1, 1, 1, 1, 1, 1, 1, 1, 1, 1, 1, 1, 1, 1, 1, 1, 1, 1, 1,\n",
              "         1, 1, 1, 1, 1, 1, 1, 1, 1, 1, 1, 1, 1, 1, 1, 1, 1, 1, 1, 1, 1, 1, 1, 1,\n",
              "         1, 1, 1, 1, 1, 1, 1, 1, 1, 1, 1, 1, 1, 1, 1, 1, 1, 1, 1, 1, 1, 1, 1, 1,\n",
              "         1, 1, 1, 1, 1, 1, 1, 1, 1, 1, 1, 1, 1, 1, 1, 1, 1, 1, 1, 1, 1, 1, 1, 1,\n",
              "         1, 1, 1, 1, 1, 1, 1, 1, 1, 1, 1, 1, 1, 1, 1, 1, 1, 1, 1, 1, 1, 1, 1, 1,\n",
              "         1, 1, 1, 1, 1, 1, 1, 1, 1, 1, 1, 1, 1, 1, 1, 1, 1, 1, 1, 1, 1, 1, 1, 1,\n",
              "         1, 1, 1, 1, 1, 1, 1, 1, 1, 1, 1, 1, 1, 1, 1, 1, 1, 1, 1, 1, 1, 1, 1, 1,\n",
              "         1, 1, 1, 1, 1, 1, 1, 1, 1, 1, 1, 1, 1, 1, 1, 1, 1, 1, 1, 1, 1, 1, 1, 1,\n",
              "         1, 1, 1, 1, 1, 1, 1, 1, 1, 1, 1, 1, 1, 1, 1, 1, 1, 1, 1, 1, 1, 1, 1, 1,\n",
              "         1, 1, 1, 1, 1, 1]])}"
            ]
          },
          "metadata": {},
          "execution_count": 65
        }
      ],
      "source": [
        "# Input tokens\n",
        "tokens"
      ]
    },
    {
      "cell_type": "code",
      "execution_count": null,
      "metadata": {
        "id": "1ML-bMoSuda7"
      },
      "outputs": [],
      "source": [
        "# Summarize \n",
        "summary = model.generate(**tokens)"
      ]
    },
    {
      "cell_type": "code",
      "execution_count": null,
      "metadata": {
        "id": "7CNBCr27uda8",
        "outputId": "7f477933-274d-426a-8343-bfbc7414df15",
        "colab": {
          "base_uri": "https://localhost:8080/"
        }
      },
      "outputs": [
        {
          "output_type": "execute_result",
          "data": {
            "text/plain": [
              "tensor([    0, 12825, 16973, 21047, 24466,   148,   174,   898,   112,   935,\n",
              "          112,   357,   121,  1139,   569,   107,     1])"
            ]
          },
          "metadata": {},
          "execution_count": 67
        }
      ],
      "source": [
        "# Output summary tokens\n",
        "summary[0]"
      ]
    },
    {
      "cell_type": "code",
      "execution_count": null,
      "metadata": {
        "id": "ul1hsehGuda8",
        "colab": {
          "base_uri": "https://localhost:8080/",
          "height": 35
        },
        "outputId": "0a35b5bd-3ac2-408e-b0f7-3e852e3bad3f"
      },
      "outputs": [
        {
          "output_type": "execute_result",
          "data": {
            "text/plain": [
              "'<pad> Rangers midfielder Joey Barton has been told to return to full-time training.</s>'"
            ],
            "application/vnd.google.colaboratory.intrinsic+json": {
              "type": "string"
            }
          },
          "metadata": {},
          "execution_count": 68
        }
      ],
      "source": [
        "# Decode summary\n",
        "tokenizer.decode(summary[0])"
      ]
    },
    {
      "cell_type": "code",
      "source": [
        "!pip install rouge"
      ],
      "metadata": {
        "colab": {
          "base_uri": "https://localhost:8080/"
        },
        "id": "CwLlobgD6-ls",
        "outputId": "f752824a-a01e-40a8-9ae9-482ca4ab15a6"
      },
      "execution_count": null,
      "outputs": [
        {
          "output_type": "stream",
          "name": "stdout",
          "text": [
            "Looking in indexes: https://pypi.org/simple, https://us-python.pkg.dev/colab-wheels/public/simple/\n",
            "Requirement already satisfied: rouge in /usr/local/lib/python3.7/dist-packages (1.0.1)\n",
            "Requirement already satisfied: six in /usr/local/lib/python3.7/dist-packages (from rouge) (1.15.0)\n"
          ]
        }
      ]
    },
    {
      "cell_type": "code",
      "source": [
        "from rouge import Rouge\n",
        "\n",
        "gold = \"Rangers say midfielder Joey Barton ”will return to full-time training” following a club-imposed suspension.\"\n",
        "\n",
        "model_summary = \" Rangers midfielder Joey Barton has been told to return to full-time training.\"\n",
        "\n",
        "rouge = Rouge()\n",
        "scores = rouge.get_scores(gold, model_summary)\n",
        "print (scores)"
      ],
      "metadata": {
        "colab": {
          "base_uri": "https://localhost:8080/"
        },
        "id": "kDZrzDF0XQMQ",
        "outputId": "932f7c26-bdbe-4851-c6dd-571c3ee70174"
      },
      "execution_count": null,
      "outputs": [
        {
          "output_type": "stream",
          "name": "stdout",
          "text": [
            "[{'rouge-1': {'r': 0.6363636363636364, 'p': 0.5, 'f': 0.5599999950720002}, 'rouge-2': {'r': 0.36363636363636365, 'p': 0.3076923076923077, 'f': 0.3333333283680556}, 'rouge-l': {'r': 0.6363636363636364, 'p': 0.5, 'f': 0.5599999950720002}}]\n"
          ]
        }
      ]
    }
  ],
  "metadata": {
    "kernelspec": {
      "display_name": "pegasus",
      "language": "python",
      "name": "pegasus"
    },
    "language_info": {
      "codemirror_mode": {
        "name": "ipython",
        "version": 3
      },
      "file_extension": ".py",
      "mimetype": "text/x-python",
      "name": "python",
      "nbconvert_exporter": "python",
      "pygments_lexer": "ipython3",
      "version": "3.7.3"
    },
    "colab": {
      "name": "Pegasus model .ipynb",
      "provenance": [],
      "collapsed_sections": []
    },
    "widgets": {
      "application/vnd.jupyter.widget-state+json": {
        "3052243a784c420b9b687223e15669bf": {
          "model_module": "@jupyter-widgets/controls",
          "model_name": "HBoxModel",
          "model_module_version": "1.5.0",
          "state": {
            "_dom_classes": [],
            "_model_module": "@jupyter-widgets/controls",
            "_model_module_version": "1.5.0",
            "_model_name": "HBoxModel",
            "_view_count": null,
            "_view_module": "@jupyter-widgets/controls",
            "_view_module_version": "1.5.0",
            "_view_name": "HBoxView",
            "box_style": "",
            "children": [
              "IPY_MODEL_51ef605317a145b4b3be283f8de51c5b",
              "IPY_MODEL_4794c730525e47b4a265d2f689702350",
              "IPY_MODEL_0931236f129347d4aebb84c8bad0a831"
            ],
            "layout": "IPY_MODEL_e4edebb8081e4f30a726e5e6e796f255"
          }
        },
        "51ef605317a145b4b3be283f8de51c5b": {
          "model_module": "@jupyter-widgets/controls",
          "model_name": "HTMLModel",
          "model_module_version": "1.5.0",
          "state": {
            "_dom_classes": [],
            "_model_module": "@jupyter-widgets/controls",
            "_model_module_version": "1.5.0",
            "_model_name": "HTMLModel",
            "_view_count": null,
            "_view_module": "@jupyter-widgets/controls",
            "_view_module_version": "1.5.0",
            "_view_name": "HTMLView",
            "description": "",
            "description_tooltip": null,
            "layout": "IPY_MODEL_b56320315091456dbf8da11493c918f3",
            "placeholder": "​",
            "style": "IPY_MODEL_637295e2211c400a81ab27cde2be742d",
            "value": "Downloading: 100%"
          }
        },
        "4794c730525e47b4a265d2f689702350": {
          "model_module": "@jupyter-widgets/controls",
          "model_name": "FloatProgressModel",
          "model_module_version": "1.5.0",
          "state": {
            "_dom_classes": [],
            "_model_module": "@jupyter-widgets/controls",
            "_model_module_version": "1.5.0",
            "_model_name": "FloatProgressModel",
            "_view_count": null,
            "_view_module": "@jupyter-widgets/controls",
            "_view_module_version": "1.5.0",
            "_view_name": "ProgressView",
            "bar_style": "success",
            "description": "",
            "description_tooltip": null,
            "layout": "IPY_MODEL_f8220540259d4de495b2267becbd9301",
            "max": 2275329241,
            "min": 0,
            "orientation": "horizontal",
            "style": "IPY_MODEL_a3e9be126b0845ed8967d4fd2c3be72b",
            "value": 2275329241
          }
        },
        "0931236f129347d4aebb84c8bad0a831": {
          "model_module": "@jupyter-widgets/controls",
          "model_name": "HTMLModel",
          "model_module_version": "1.5.0",
          "state": {
            "_dom_classes": [],
            "_model_module": "@jupyter-widgets/controls",
            "_model_module_version": "1.5.0",
            "_model_name": "HTMLModel",
            "_view_count": null,
            "_view_module": "@jupyter-widgets/controls",
            "_view_module_version": "1.5.0",
            "_view_name": "HTMLView",
            "description": "",
            "description_tooltip": null,
            "layout": "IPY_MODEL_d91d260b7c65441ea5d72c14dfbf155a",
            "placeholder": "​",
            "style": "IPY_MODEL_29097b642f2a44b1bf3ac75d221c3992",
            "value": " 2.12G/2.12G [00:56&lt;00:00, 36.0MB/s]"
          }
        },
        "e4edebb8081e4f30a726e5e6e796f255": {
          "model_module": "@jupyter-widgets/base",
          "model_name": "LayoutModel",
          "model_module_version": "1.2.0",
          "state": {
            "_model_module": "@jupyter-widgets/base",
            "_model_module_version": "1.2.0",
            "_model_name": "LayoutModel",
            "_view_count": null,
            "_view_module": "@jupyter-widgets/base",
            "_view_module_version": "1.2.0",
            "_view_name": "LayoutView",
            "align_content": null,
            "align_items": null,
            "align_self": null,
            "border": null,
            "bottom": null,
            "display": null,
            "flex": null,
            "flex_flow": null,
            "grid_area": null,
            "grid_auto_columns": null,
            "grid_auto_flow": null,
            "grid_auto_rows": null,
            "grid_column": null,
            "grid_gap": null,
            "grid_row": null,
            "grid_template_areas": null,
            "grid_template_columns": null,
            "grid_template_rows": null,
            "height": null,
            "justify_content": null,
            "justify_items": null,
            "left": null,
            "margin": null,
            "max_height": null,
            "max_width": null,
            "min_height": null,
            "min_width": null,
            "object_fit": null,
            "object_position": null,
            "order": null,
            "overflow": null,
            "overflow_x": null,
            "overflow_y": null,
            "padding": null,
            "right": null,
            "top": null,
            "visibility": null,
            "width": null
          }
        },
        "b56320315091456dbf8da11493c918f3": {
          "model_module": "@jupyter-widgets/base",
          "model_name": "LayoutModel",
          "model_module_version": "1.2.0",
          "state": {
            "_model_module": "@jupyter-widgets/base",
            "_model_module_version": "1.2.0",
            "_model_name": "LayoutModel",
            "_view_count": null,
            "_view_module": "@jupyter-widgets/base",
            "_view_module_version": "1.2.0",
            "_view_name": "LayoutView",
            "align_content": null,
            "align_items": null,
            "align_self": null,
            "border": null,
            "bottom": null,
            "display": null,
            "flex": null,
            "flex_flow": null,
            "grid_area": null,
            "grid_auto_columns": null,
            "grid_auto_flow": null,
            "grid_auto_rows": null,
            "grid_column": null,
            "grid_gap": null,
            "grid_row": null,
            "grid_template_areas": null,
            "grid_template_columns": null,
            "grid_template_rows": null,
            "height": null,
            "justify_content": null,
            "justify_items": null,
            "left": null,
            "margin": null,
            "max_height": null,
            "max_width": null,
            "min_height": null,
            "min_width": null,
            "object_fit": null,
            "object_position": null,
            "order": null,
            "overflow": null,
            "overflow_x": null,
            "overflow_y": null,
            "padding": null,
            "right": null,
            "top": null,
            "visibility": null,
            "width": null
          }
        },
        "637295e2211c400a81ab27cde2be742d": {
          "model_module": "@jupyter-widgets/controls",
          "model_name": "DescriptionStyleModel",
          "model_module_version": "1.5.0",
          "state": {
            "_model_module": "@jupyter-widgets/controls",
            "_model_module_version": "1.5.0",
            "_model_name": "DescriptionStyleModel",
            "_view_count": null,
            "_view_module": "@jupyter-widgets/base",
            "_view_module_version": "1.2.0",
            "_view_name": "StyleView",
            "description_width": ""
          }
        },
        "f8220540259d4de495b2267becbd9301": {
          "model_module": "@jupyter-widgets/base",
          "model_name": "LayoutModel",
          "model_module_version": "1.2.0",
          "state": {
            "_model_module": "@jupyter-widgets/base",
            "_model_module_version": "1.2.0",
            "_model_name": "LayoutModel",
            "_view_count": null,
            "_view_module": "@jupyter-widgets/base",
            "_view_module_version": "1.2.0",
            "_view_name": "LayoutView",
            "align_content": null,
            "align_items": null,
            "align_self": null,
            "border": null,
            "bottom": null,
            "display": null,
            "flex": null,
            "flex_flow": null,
            "grid_area": null,
            "grid_auto_columns": null,
            "grid_auto_flow": null,
            "grid_auto_rows": null,
            "grid_column": null,
            "grid_gap": null,
            "grid_row": null,
            "grid_template_areas": null,
            "grid_template_columns": null,
            "grid_template_rows": null,
            "height": null,
            "justify_content": null,
            "justify_items": null,
            "left": null,
            "margin": null,
            "max_height": null,
            "max_width": null,
            "min_height": null,
            "min_width": null,
            "object_fit": null,
            "object_position": null,
            "order": null,
            "overflow": null,
            "overflow_x": null,
            "overflow_y": null,
            "padding": null,
            "right": null,
            "top": null,
            "visibility": null,
            "width": null
          }
        },
        "a3e9be126b0845ed8967d4fd2c3be72b": {
          "model_module": "@jupyter-widgets/controls",
          "model_name": "ProgressStyleModel",
          "model_module_version": "1.5.0",
          "state": {
            "_model_module": "@jupyter-widgets/controls",
            "_model_module_version": "1.5.0",
            "_model_name": "ProgressStyleModel",
            "_view_count": null,
            "_view_module": "@jupyter-widgets/base",
            "_view_module_version": "1.2.0",
            "_view_name": "StyleView",
            "bar_color": null,
            "description_width": ""
          }
        },
        "d91d260b7c65441ea5d72c14dfbf155a": {
          "model_module": "@jupyter-widgets/base",
          "model_name": "LayoutModel",
          "model_module_version": "1.2.0",
          "state": {
            "_model_module": "@jupyter-widgets/base",
            "_model_module_version": "1.2.0",
            "_model_name": "LayoutModel",
            "_view_count": null,
            "_view_module": "@jupyter-widgets/base",
            "_view_module_version": "1.2.0",
            "_view_name": "LayoutView",
            "align_content": null,
            "align_items": null,
            "align_self": null,
            "border": null,
            "bottom": null,
            "display": null,
            "flex": null,
            "flex_flow": null,
            "grid_area": null,
            "grid_auto_columns": null,
            "grid_auto_flow": null,
            "grid_auto_rows": null,
            "grid_column": null,
            "grid_gap": null,
            "grid_row": null,
            "grid_template_areas": null,
            "grid_template_columns": null,
            "grid_template_rows": null,
            "height": null,
            "justify_content": null,
            "justify_items": null,
            "left": null,
            "margin": null,
            "max_height": null,
            "max_width": null,
            "min_height": null,
            "min_width": null,
            "object_fit": null,
            "object_position": null,
            "order": null,
            "overflow": null,
            "overflow_x": null,
            "overflow_y": null,
            "padding": null,
            "right": null,
            "top": null,
            "visibility": null,
            "width": null
          }
        },
        "29097b642f2a44b1bf3ac75d221c3992": {
          "model_module": "@jupyter-widgets/controls",
          "model_name": "DescriptionStyleModel",
          "model_module_version": "1.5.0",
          "state": {
            "_model_module": "@jupyter-widgets/controls",
            "_model_module_version": "1.5.0",
            "_model_name": "DescriptionStyleModel",
            "_view_count": null,
            "_view_module": "@jupyter-widgets/base",
            "_view_module_version": "1.2.0",
            "_view_name": "StyleView",
            "description_width": ""
          }
        }
      }
    }
  },
  "nbformat": 4,
  "nbformat_minor": 0
}